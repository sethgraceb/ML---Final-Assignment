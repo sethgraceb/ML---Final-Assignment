{
 "cells": [
  {
   "cell_type": "markdown",
   "metadata": {},
   "source": [
    "# Logistic Regression"
   ]
  },
  {
   "cell_type": "markdown",
   "metadata": {},
   "source": [
    "## text + voted_up [x + y]"
   ]
  },
  {
   "cell_type": "code",
   "execution_count": 86,
   "metadata": {},
   "outputs": [],
   "source": [
    "import pandas as pd\n",
    "import numpy as np\n",
    "import jsonlines\n",
    "from sklearn.model_selection import train_test_split\n",
    "from sklearn.linear_model import LogisticRegression\n",
    "from sklearn.feature_extraction.text import CountVectorizer,TfidfVectorizer, TfidfTransformer\n",
    "from sklearn.neighbors import KNeighborsClassifier"
   ]
  },
  {
   "cell_type": "code",
   "execution_count": 116,
   "metadata": {},
   "outputs": [
    {
     "name": "stdout",
     "output_type": "stream",
     "text": [
      "                                                text  voted_up  early_access\n",
      "0                                 Needs more content      True         False\n",
      "1  With the Zombie FPS market still expanding, co...      True         False\n",
      "2                                                         True         False\n",
      "3  pretty good, but very difficult at first. requ...      True         False\n",
      "4           best game ever i love it thank you valve      True         False\n",
      "\n",
      "text:\n",
      " ['Needs more content'\n",
      " \"With the Zombie FPS market still expanding, companies are continuing to struggle to bring a fresh experience to players interested in the Z-market. However, being a massive fan of Zombie games, I gave Contagion a try and can easily recommend this game to anyone who loves Zombie FPS. Yes! It is only in Beta but considering this, they've done a fantastic job so far and I found very very few problems, and even those problems DID NOT ruin the gameplay experience. All I can say is, for the price... give it a go... you may be disappointed, but I have personally been disappointed by a lot of Zombie games... except this one.\"\n",
      " '                             ' ...\n",
      " '     \"\": 1.  . 2.    . 3.  . 4.  5    . 5.       \"\"       . Profit!  MMO      5, .'\n",
      " 'A nivel grfico el juego es bueno y entretenido pero... Me uno a las crticas sobre el cambio de plataforma, para ponerlo simple: No voy a comprar un juego en una plataforma que no me de confianza y esa es Epic Games. As que:   .............//)..........................................(\\\\`\\\\  .........../....//............................................\\\\\\\\...\\\\  ........../....//..............................................\\\\\\\\ ..\\\\  .....//..../\\\\........................................./`\\\\....\\\\`\\\\  .././.. /..../..../. |_....EPIC STORE....._.|..\\\\....\\\\....\\\\....\\\\.\\\\  (.(....(....(..../.) ..)............................(...(.\\\\....).....)....).)  .\\\\................\\\\/.../..............................\\\\...\\\\/.............../  ..\\\\.................../................................\\\\................../  ...\\\\.................(.................................)................/'\n",
      " 'hikuhio']\n",
      "\n",
      "voted_up:\n",
      " [ True  True  True ... False False False]\n",
      "\n",
      "early_access:\n",
      " [False False False ... False False  True]\n"
     ]
    }
   ],
   "source": [
    "X = []; y = []; z = []\n",
    "df = pd.read_json('reviews.jl', lines = True)\n",
    "df = df[['text', 'voted_up', 'early_access']]\n",
    "#df.head()\n",
    "\n",
    "#remove non-ascii characters\n",
    "#https://qxf2.com/blog/cleaning-data-python-pandas/\n",
    "df.replace({r'[^\\x00-\\x7F]+':''}, regex=True, inplace=True)\n",
    "print(df.head())\n",
    "\n",
    "X = df['text'].values\n",
    "print(\"\\ntext:\\n\", X)\n",
    "\n",
    "y = df['voted_up'].values\n",
    "print(\"\\nvoted_up:\\n\", y)\n",
    "\n",
    "z = df['early_access'].values\n",
    "print(\"\\nearly_access:\\n\", z)\n"
   ]
  },
  {
   "cell_type": "code",
   "execution_count": 88,
   "metadata": {},
   "outputs": [
    {
     "name": "stdout",
     "output_type": "stream",
     "text": [
      "Voted_up Total: 5000 True: 2500\n",
      "Early_access Total: 5000 True: 537\n"
     ]
    },
    {
     "data": {
      "text/html": [
       "<div>\n",
       "<style scoped>\n",
       "    .dataframe tbody tr th:only-of-type {\n",
       "        vertical-align: middle;\n",
       "    }\n",
       "\n",
       "    .dataframe tbody tr th {\n",
       "        vertical-align: top;\n",
       "    }\n",
       "\n",
       "    .dataframe thead th {\n",
       "        text-align: right;\n",
       "    }\n",
       "</style>\n",
       "<table border=\"1\" class=\"dataframe\">\n",
       "  <thead>\n",
       "    <tr style=\"text-align: right;\">\n",
       "      <th></th>\n",
       "      <th>text</th>\n",
       "      <th>voted_up</th>\n",
       "      <th>early_access</th>\n",
       "    </tr>\n",
       "  </thead>\n",
       "  <tbody>\n",
       "    <tr>\n",
       "      <th>0</th>\n",
       "      <td>Needs more content</td>\n",
       "      <td>True</td>\n",
       "      <td>False</td>\n",
       "    </tr>\n",
       "    <tr>\n",
       "      <th>1</th>\n",
       "      <td>With the Zombie FPS market still expanding, co...</td>\n",
       "      <td>True</td>\n",
       "      <td>False</td>\n",
       "    </tr>\n",
       "    <tr>\n",
       "      <th>2</th>\n",
       "      <td></td>\n",
       "      <td>True</td>\n",
       "      <td>False</td>\n",
       "    </tr>\n",
       "    <tr>\n",
       "      <th>3</th>\n",
       "      <td>pretty good, but very difficult at first. requ...</td>\n",
       "      <td>True</td>\n",
       "      <td>False</td>\n",
       "    </tr>\n",
       "    <tr>\n",
       "      <th>4</th>\n",
       "      <td>best game ever i love it thank you valve</td>\n",
       "      <td>True</td>\n",
       "      <td>False</td>\n",
       "    </tr>\n",
       "  </tbody>\n",
       "</table>\n",
       "</div>"
      ],
      "text/plain": [
       "                                                text  voted_up  early_access\n",
       "0                                 Needs more content      True         False\n",
       "1  With the Zombie FPS market still expanding, co...      True         False\n",
       "2                                                         True         False\n",
       "3  pretty good, but very difficult at first. requ...      True         False\n",
       "4           best game ever i love it thank you valve      True         False"
      ]
     },
     "execution_count": 88,
     "metadata": {},
     "output_type": "execute_result"
    }
   ],
   "source": [
    "#count number of true elements in y and z\n",
    "print(\"Voted_up Total:\", len(y), \"True:\", sum(y))\n",
    "print(\"Early_access Total:\", len(z), \"True:\", sum(z))\n",
    "\n",
    "df_train = df[['text', 'voted_up', \n",
    "               'early_access', \n",
    "               ]]\n",
    "df_train.head()"
   ]
  },
  {
   "cell_type": "code",
   "execution_count": 89,
   "metadata": {},
   "outputs": [
    {
     "name": "stdout",
     "output_type": "stream",
     "text": [
      "Index(['text', 'voted_up', 'early_access'], dtype='object')\n"
     ]
    }
   ],
   "source": [
    "print(df.columns)\n",
    "df_raw = df.drop(columns=['text', 'voted_up', 'early_access'])"
   ]
  },
  {
   "cell_type": "code",
   "execution_count": 90,
   "metadata": {},
   "outputs": [],
   "source": [
    "tfidf_vectorizer = TfidfVectorizer(stop_words='english', use_idf = True, max_df = 0.95)\n",
    "tfidf_vectorizer.fit_transform(X)\n",
    "\n",
    "train_set = tfidf_vectorizer.transform(X)\n",
    "test_set = tfidf_vectorizer.transform(X)\n",
    "\n",
    "# FEATURES\n",
    "X_train = train_set\n",
    "X_test = test_set \n",
    "\n",
    "Y_train = y\n",
    "Y_test= y\n",
    "\n",
    "Z_train = z\n",
    "Z_test = z"
   ]
  },
  {
   "cell_type": "markdown",
   "metadata": {},
   "source": [
    "### Logistic Regression"
   ]
  },
  {
   "cell_type": "code",
   "execution_count": 118,
   "metadata": {},
   "outputs": [
    {
     "name": "stdout",
     "output_type": "stream",
     "text": [
      "\n",
      "Intercept: [-0.04704324]\n",
      "\n",
      "Coef: [[-0.47763833 -0.3528016  -0.01186131 ...  0.01355819  0.06746615\n",
      "   0.41021428]]\n",
      "\n",
      "Score: 0.854\n"
     ]
    }
   ],
   "source": [
    "log_reg = LogisticRegression()\n",
    "model = log_reg.fit(X_train, Y_train)\n",
    "print(\"\\nIntercept:\", model.intercept_)\n",
    "print(\"\\nCoef:\", model.coef_)\n",
    "\n",
    "xpred = model.predict(X_train)\n",
    "ypred = model.predict(X_test)\n",
    "\n",
    "# Use score method to get accuracy of model\n",
    "score = log_reg.score(X_test, Y_test)\n",
    "print(\"\\nScore:\", score)"
   ]
  },
  {
   "cell_type": "markdown",
   "metadata": {},
   "source": [
    "### Confusion Matrix"
   ]
  },
  {
   "cell_type": "code",
   "execution_count": 92,
   "metadata": {},
   "outputs": [
    {
     "name": "stdout",
     "output_type": "stream",
     "text": [
      "Confusion Matrix:\n",
      "[[2341  159]\n",
      " [ 571 1929]]\n"
     ]
    }
   ],
   "source": [
    "from sklearn import metrics\n",
    "cm = metrics.confusion_matrix(Y_test, ypred)\n",
    "print(\"Confusion Matrix:\")\n",
    "print(cm)"
   ]
  },
  {
   "cell_type": "markdown",
   "metadata": {},
   "source": [
    "#### Confusion Matrix using seaborn"
   ]
  },
  {
   "cell_type": "code",
   "execution_count": 119,
   "metadata": {},
   "outputs": [
    {
     "data": {
      "text/plain": [
       "Text(0.5, 1.0, 'Accuracy Score: 0.854')"
      ]
     },
     "execution_count": 119,
     "metadata": {},
     "output_type": "execute_result"
    },
    {
     "data": {
      "image/png": "[encoded data removed]",
      "text/plain": [
       "<Figure size 360x360 with 2 Axes>"
      ]
     },
     "metadata": {
      "needs_background": "light"
     },
     "output_type": "display_data"
    }
   ],
   "source": [
    "import seaborn as sns\n",
    "import matplotlib.pyplot as plt\n",
    "\n",
    "plt.figure(figsize=(5,5))\n",
    "sns.heatmap(cm, annot=True, fmt=\"0.3f\", linewidths=.5, square = True, cmap = 'Blues_r')\n",
    "plt.ylabel('Actual')\n",
    "plt.xlabel('Predicted')\n",
    "all_sample_title = 'Accuracy Score: {0}'.format(score)\n",
    "plt.title(all_sample_title, size = 15)"
   ]
  },
  {
   "cell_type": "markdown",
   "metadata": {},
   "source": [
    "#### Classification Report"
   ]
  },
  {
   "cell_type": "code",
   "execution_count": 94,
   "metadata": {},
   "outputs": [
    {
     "name": "stdout",
     "output_type": "stream",
     "text": [
      "              precision    recall  f1-score   support\n",
      "\n",
      "       False       0.80      0.94      0.87      2500\n",
      "        True       0.92      0.77      0.84      2500\n",
      "\n",
      "    accuracy                           0.85      5000\n",
      "   macro avg       0.86      0.85      0.85      5000\n",
      "weighted avg       0.86      0.85      0.85      5000\n",
      "\n"
     ]
    }
   ],
   "source": [
    "from sklearn.metrics import classification_report\n",
    "print(classification_report(Y_test, ypred))"
   ]
  },
  {
   "cell_type": "markdown",
   "metadata": {},
   "source": [
    "#### ROC Curve"
   ]
  },
  {
   "cell_type": "code",
   "execution_count": 95,
   "metadata": {},
   "outputs": [
    {
     "name": "stdout",
     "output_type": "stream",
     "text": [
      "[False  True]\n",
      "AUC Score: 0.93632064\n"
     ]
    },
    {
     "data": {
      "image/png": "[encoded data removed]",
      "text/plain": [
       "<Figure size 432x288 with 1 Axes>"
      ]
     },
     "metadata": {
      "needs_background": "light"
     },
     "output_type": "display_data"
    }
   ],
   "source": [
    "from sklearn.metrics import roc_curve\n",
    "preds = log_reg.predict_proba(X_test)\n",
    "print(model.classes_)\n",
    "fpr, tpr, _ = roc_curve(Y_test, preds[:,1])\n",
    "plt.plot(fpr, tpr)\n",
    "\n",
    "auc_score = metrics.roc_auc_score(Y_test, preds[:,1])\n",
    "print(\"AUC Score:\", auc_score)"
   ]
  },
  {
   "cell_type": "code",
   "execution_count": 96,
   "metadata": {},
   "outputs": [
    {
     "data": {
      "image/png": "[encoded data removed]",
      "text/plain": [
       "<Figure size 432x288 with 1 Axes>"
      ]
     },
     "metadata": {
      "needs_background": "light"
     },
     "output_type": "display_data"
    }
   ],
   "source": [
    "fpr, tpr, _ = roc_curve(Y_test, log_reg.decision_function(X_test))\n",
    "plt.plot(fpr, tpr, color='orange')\n",
    "plt.legend(['ROC curve','Logistic Regression'])\n",
    "plt.xlabel('False positive rate')\n",
    "plt.ylabel('True positive rate')\n",
    "plt.plot([0, 1], [0, 1], color='green', linestyle='--')\n",
    "plt.title('ROC Curve - Logistic Regression')\n",
    "plt.show()\n"
   ]
  },
  {
   "cell_type": "markdown",
   "metadata": {},
   "source": [
    "## Baseline"
   ]
  },
  {
   "cell_type": "code",
   "execution_count": 102,
   "metadata": {},
   "outputs": [
    {
     "name": "stdout",
     "output_type": "stream",
     "text": [
      "Classification Report:\n",
      "               precision    recall  f1-score   support\n",
      "\n",
      "       False       0.50      1.00      0.67      2500\n",
      "        True       0.00      0.00      0.00      2500\n",
      "\n",
      "    accuracy                           0.50      5000\n",
      "   macro avg       0.25      0.50      0.33      5000\n",
      "weighted avg       0.25      0.50      0.33      5000\n",
      "\n",
      "Confusion Matrix:\n",
      " [[2500    0]\n",
      " [2500    0]]\n"
     ]
    },
    {
     "data": {
      "image/png": "[encoded data removed]",
      "text/plain": [
       "<Figure size 360x360 with 2 Axes>"
      ]
     },
     "metadata": {
      "needs_background": "light"
     },
     "output_type": "display_data"
    }
   ],
   "source": [
    "from sklearn import metrics\n",
    "from sklearn.dummy import DummyClassifier\n",
    "\n",
    "dummy = DummyClassifier(strategy = \"most_frequent\").fit(X_train, Y_train)\n",
    "ydummy = dummy.predict(X_test)\n",
    "\n",
    "print(\"Classification Report:\\n\", classification_report(Y_test, ydummy))\n",
    "dummycm = metrics.confusion_matrix(Y_test, ydummy)\n",
    "print(\"Confusion Matrix:\\n\", dummycm)\n",
    "\n",
    "import seaborn as sns\n",
    "import matplotlib.pyplot as plt\n",
    "\n",
    "plt.figure(figsize=(5,5))\n",
    "sns.heatmap(dummycm, annot=True, fmt=\"0.3f\", linewidths=.5, square = True, cmap = 'Blues_r');\n",
    "plt.ylabel('Actual');\n",
    "plt.xlabel('Predicted')\n",
    "plt.title(\"Accuracy: 0.5\")\n",
    "plt.show()"
   ]
  },
  {
   "cell_type": "markdown",
   "metadata": {},
   "source": [
    "## text + early_access [x + z]"
   ]
  },
  {
   "cell_type": "markdown",
   "metadata": {},
   "source": [
    "### Logistic Regression"
   ]
  },
  {
   "cell_type": "code",
   "execution_count": 121,
   "metadata": {},
   "outputs": [
    {
     "name": "stdout",
     "output_type": "stream",
     "text": [
      "\n",
      "Intercept: [-2.22475922]\n",
      "\n",
      "Coef: [[ 0.21193807 -0.12174736 -0.00300896 ... -0.0021769  -0.01431211\n",
      "  -0.08992057]]\n",
      "\n",
      "Score: 0.8932\n"
     ]
    }
   ],
   "source": [
    "log_reg = LogisticRegression()\n",
    "model = log_reg.fit(X_train, Z_train)\n",
    "print(\"\\nIntercept:\", model.intercept_)\n",
    "print(\"\\nCoef:\", model.coef_)\n",
    "\n",
    "xpred = model.predict(X_train)\n",
    "zpred = model.predict(X_test)\n",
    "\n",
    "# Use score method to get accuracy of model\n",
    "score = log_reg.score(X_test, Z_test)\n",
    "print(\"\\nScore:\", score)"
   ]
  },
  {
   "cell_type": "markdown",
   "metadata": {},
   "source": [
    "### Confusion Matrix"
   ]
  },
  {
   "cell_type": "code",
   "execution_count": 104,
   "metadata": {},
   "outputs": [
    {
     "name": "stdout",
     "output_type": "stream",
     "text": [
      "Confusion Matrix:\n",
      "[[4463    0]\n",
      " [ 534    3]]\n"
     ]
    }
   ],
   "source": [
    "from sklearn import metrics\n",
    "cm = metrics.confusion_matrix(Z_test, zpred)\n",
    "print(\"Confusion Matrix:\")\n",
    "print(cm)"
   ]
  },
  {
   "cell_type": "markdown",
   "metadata": {},
   "source": [
    "#### Confusion Matrix using seaborn"
   ]
  },
  {
   "cell_type": "code",
   "execution_count": 122,
   "metadata": {},
   "outputs": [
    {
     "data": {
      "text/plain": [
       "Text(0.5, 1.0, 'Accuracy Score: 0.8932')"
      ]
     },
     "execution_count": 122,
     "metadata": {},
     "output_type": "execute_result"
    },
    {
     "data": {
      "image/png": "[encoded data removed]",
      "text/plain": [
       "<Figure size 360x360 with 2 Axes>"
      ]
     },
     "metadata": {
      "needs_background": "light"
     },
     "output_type": "display_data"
    }
   ],
   "source": [
    "import seaborn as sns\n",
    "import matplotlib.pyplot as plt\n",
    "\n",
    "plt.figure(figsize=(5,5))\n",
    "sns.heatmap(cm, annot=True, fmt=\"0.3f\", linewidths=.5, square = True, cmap = 'Blues_r')\n",
    "plt.ylabel('Actual')\n",
    "plt.xlabel('Predicted')\n",
    "all_sample_title = 'Accuracy Score: {0}'.format(score)\n",
    "plt.title(all_sample_title, size = 15)"
   ]
  },
  {
   "cell_type": "markdown",
   "metadata": {},
   "source": [
    "#### Classification Report"
   ]
  },
  {
   "cell_type": "code",
   "execution_count": 113,
   "metadata": {},
   "outputs": [
    {
     "name": "stdout",
     "output_type": "stream",
     "text": [
      "              precision    recall  f1-score   support\n",
      "\n",
      "       False       0.89      1.00      0.94      4463\n",
      "        True       1.00      0.01      0.01       537\n",
      "\n",
      "    accuracy                           0.89      5000\n",
      "   macro avg       0.95      0.50      0.48      5000\n",
      "weighted avg       0.90      0.89      0.84      5000\n",
      "\n"
     ]
    }
   ],
   "source": [
    "from sklearn.metrics import classification_report\n",
    "print(classification_report(Z_test, zpred))"
   ]
  },
  {
   "cell_type": "markdown",
   "metadata": {},
   "source": [
    "#### ROC Curve"
   ]
  },
  {
   "cell_type": "code",
   "execution_count": 108,
   "metadata": {},
   "outputs": [
    {
     "name": "stdout",
     "output_type": "stream",
     "text": [
      "[False  True]\n",
      "AUC Score: 0.9151325339612147\n"
     ]
    },
    {
     "data": {
      "image/png": "[encoded data removed]",
      "text/plain": [
       "<Figure size 432x288 with 1 Axes>"
      ]
     },
     "metadata": {
      "needs_background": "light"
     },
     "output_type": "display_data"
    }
   ],
   "source": [
    "from sklearn.metrics import roc_curve\n",
    "preds = log_reg.predict_proba(X_test)\n",
    "print(model.classes_)\n",
    "fpr, tpr, _ = roc_curve(Z_test, preds[:,1])\n",
    "plt.plot(fpr, tpr)\n",
    "\n",
    "auc_score = metrics.roc_auc_score(Z_test, preds[:,1])\n",
    "print(\"AUC Score:\", auc_score)"
   ]
  },
  {
   "cell_type": "code",
   "execution_count": 124,
   "metadata": {},
   "outputs": [
    {
     "data": {
      "image/png": "[encoded data removed]",
      "text/plain": [
       "<Figure size 432x288 with 1 Axes>"
      ]
     },
     "metadata": {
      "needs_background": "light"
     },
     "output_type": "display_data"
    }
   ],
   "source": [
    "fpr, tpr, _ = roc_curve(Z_test, log_reg.decision_function(X_test))\n",
    "plt.plot(fpr, tpr, color='orange')\n",
    "plt.legend(['ROC curve','Logistic Regression'])\n",
    "plt.xlabel('False positive rate')\n",
    "plt.ylabel('True positive rate')\n",
    "plt.plot([0, 1], [0, 1], color='green', linestyle='--')\n",
    "plt.show()"
   ]
  },
  {
   "cell_type": "markdown",
   "metadata": {},
   "source": [
    "## Baseline"
   ]
  },
  {
   "cell_type": "code",
   "execution_count": 125,
   "metadata": {},
   "outputs": [
    {
     "name": "stderr",
     "output_type": "stream",
     "text": [
      "D:\\Anaconda1\\lib\\site-packages\\sklearn\\metrics\\_classification.py:1221: UndefinedMetricWarning: Precision and F-score are ill-defined and being set to 0.0 in labels with no predicted samples. Use `zero_division` parameter to control this behavior.\n",
      "  _warn_prf(average, modifier, msg_start, len(result))\n"
     ]
    },
    {
     "name": "stdout",
     "output_type": "stream",
     "text": [
      "Classification Report:\n",
      "               precision    recall  f1-score   support\n",
      "\n",
      "       False       0.89      1.00      0.94      4463\n",
      "        True       0.00      0.00      0.00       537\n",
      "\n",
      "    accuracy                           0.89      5000\n",
      "   macro avg       0.45      0.50      0.47      5000\n",
      "weighted avg       0.80      0.89      0.84      5000\n",
      "\n",
      "Confusion Matrix:\n",
      " [[4463    0]\n",
      " [ 537    0]]\n"
     ]
    },
    {
     "data": {
      "image/png": "[encoded data removed]",
      "text/plain": [
       "<Figure size 360x360 with 2 Axes>"
      ]
     },
     "metadata": {
      "needs_background": "light"
     },
     "output_type": "display_data"
    }
   ],
   "source": [
    "from sklearn import metrics\n",
    "from sklearn.dummy import DummyClassifier\n",
    "\n",
    "dummy = DummyClassifier(strategy = \"most_frequent\").fit(X_train, Z_train)\n",
    "zdummy = dummy.predict(X_test)\n",
    "\n",
    "print(\"Classification Report:\\n\", classification_report(Z_test, zdummy))\n",
    "dummycm = metrics.confusion_matrix(Z_test, zdummy)\n",
    "print(\"Confusion Matrix:\\n\", dummycm)\n",
    "\n",
    "import seaborn as sns\n",
    "import matplotlib.pyplot as plt\n",
    "\n",
    "plt.figure(figsize=(5,5))\n",
    "sns.heatmap(dummycm, annot=True, fmt=\"0.3f\", linewidths=.5, square = True, cmap = 'Blues_r')\n",
    "plt.ylabel('Actual')\n",
    "plt.xlabel('Predicted')\n",
    "plt.title('Accuracy: 0.89')\n",
    "plt.show()"
   ]
  },
  {
   "cell_type": "code",
   "execution_count": null,
   "metadata": {},
   "outputs": [],
   "source": []
  }
 ],
 "metadata": {
  "kernelspec": {
   "display_name": "Python 3",
   "language": "python",
   "name": "python3"
  },
  "language_info": {
   "codemirror_mode": {
    "name": "ipython",
    "version": 3
   },
   "file_extension": ".py",
   "mimetype": "text/x-python",
   "name": "python",
   "nbconvert_exporter": "python",
   "pygments_lexer": "ipython3",
   "version": "3.8.5"
  }
 },
 "nbformat": 4,
 "nbformat_minor": 4
}
